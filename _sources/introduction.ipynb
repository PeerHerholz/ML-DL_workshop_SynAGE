{
 "cells": [
  {
   "cell_type": "markdown",
   "metadata": {
    "slideshow": {
     "slide_type": "slide"
    }
   },
   "source": [
    "# Introduction\n",
    "\n",
    "[Peer Herholz (he/him)](https://peerherholz.github.io/)  \n",
    "Postdoctoral researcher - [NeuroDataScience lab](https://neurodatascience.github.io/) at [MNI](https://www.mcgill.ca/neuro/)/[McGill](https://www.mcgill.ca/), [UNIQUE](https://sites.google.com/view/unique-neuro-ai)  \n",
    "Member - [BIDS](https://bids-specification.readthedocs.io/en/stable/), [ReproNim](https://www.repronim.org/), [Brainhack](https://brainhack.org/), [Neuromod](https://www.cneuromod.ca/), [OHBM SEA-SIG](https://ohbm-environment.org/) \n",
    "\n",
    "<img align=\"right\" src=\"https://raw.githubusercontent.com/PeerHerholz/ML-DL_workshop_SynAGE/master/lecture/static/ml-dl_workshop.png\" alt=\"logo\" title=\"Github\" width=\"400\" height=\"280\" />\n",
    "\n",
    "<img align=\"left\" src=\"https://raw.githubusercontent.com/G0RELLA/gorella_mwn/master/lecture/static/Twitter%20social%20icons%20-%20circle%20-%20blue.png\" alt=\"logo\" title=\"Twitter\" width=\"32\" height=\"20\" /> <img align=\"left\" src=\"https://raw.githubusercontent.com/G0RELLA/gorella_mwn/master/lecture/static/GitHub-Mark-120px-plus.png\" alt=\"logo\" title=\"Github\" width=\"30\" height=\"20\" />   &nbsp;&nbsp;@peerherholz "
   ]
  },
  {
   "cell_type": "markdown",
   "metadata": {
    "slideshow": {
     "slide_type": "slide"
    }
   },
   "source": [
    "### A few things before we start ...\n",
    "\n",
    "- to the folks with hearing impairments:\n",
    "\n",
    "    - There will be live captions at the bottom \n",
    "    of the screen.   \n",
    "    - If something doesn’t work, \n",
    "    please let me/us know in the chat.\n",
    "    "
   ]
  },
  {
   "cell_type": "markdown",
   "metadata": {
    "slideshow": {
     "slide_type": "subslide"
    }
   },
   "source": [
    "#### A few things before we start ...\n",
    "\n",
    "\n",
    "- to the folks with vision impairments:\n",
    "\n",
    "    - All graphics (except those taken from publications) should be high \n",
    "      in contrast and color-blind friendly.  \n",
    "    - If there are problems, please let me/us know in the chat."
   ]
  },
  {
   "cell_type": "markdown",
   "metadata": {
    "slideshow": {
     "slide_type": "subslide"
    }
   },
   "source": [
    "#### A few things before we start ...\n",
    "\n",
    "\n",
    "- to everyone:\n",
    "\n",
    "    - I will try my best to speak loud and clearly.  \n",
    "    - If you have troubles understanding me, please say so.  \n",
    "    - If you feel uncomfortable doing this/asking questions via the \n",
    "      public chat, please send me a direct message. \n"
   ]
  },
  {
   "cell_type": "markdown",
   "metadata": {
    "slideshow": {
     "slide_type": "subslide"
    }
   },
   "source": [
    "#### A few things before we start ...\n",
    "\n",
    "\n",
    "- to everyone:\n",
    "\n",
    "    - I sincerely hope you feel comfortable indicating your pronouns. If so, please add them to your name if you want to. \n",
    "    - During the discussion/questions, please say your name as I (and others) would like to avoid\n",
    "mispronouncing it.\n"
   ]
  },
  {
   "cell_type": "markdown",
   "metadata": {
    "slideshow": {
     "slide_type": "subslide"
    }
   },
   "source": [
    "#### A few things before we start ...\n",
    "\n",
    "- to everyone (continued):\n",
    "\n",
    "    - I try my best to present an objective overview. However, there’s \n",
    "    inherent bias to such presentations based on personal opinions and \n",
    "    experience. Thus, I’m looking forward to openly discuss every \n",
    "    point/comment with you all.  \n",
    "    - Let’s all give our best to create an open, supportive and welcoming \n",
    "    atmosphere for everyone.\n"
   ]
  },
  {
   "cell_type": "markdown",
   "metadata": {
    "slideshow": {
     "slide_type": "subslide"
    }
   },
   "source": [
    "#### A few things before we start ...\n",
    "\n",
    "- to everyone (continued):\n",
    "\n",
    "   - If you think the materials presented here are useful, please don't hesitate to share them, for example via twitter (#ML-DL-SynAGE) or in any other form.  \n",
    "   - **Open educational resources for the win!**"
   ]
  },
  {
   "attachments": {},
   "cell_type": "markdown",
   "metadata": {
    "slideshow": {
     "slide_type": "subslide"
    }
   },
   "source": [
    "#### A few things before we start ...\n",
    "\n",
    "Big kudos to the amazing communities that create all the fantastic open-source resources that make workshops like this and many other things possible!\n",
    "\n",
    "<img align=\"center\" src=\"https://raw.githubusercontent.com/PeerHerholz/ML-DL_workshop_SynAGE/master/lecture/static/community_logos.png\" alt=\"logo\" title=\"Github\" width=\"2000\" height=\"280\" />\n",
    "* by no means an exhaustive list...\n"
   ]
  },
  {
   "attachments": {},
   "cell_type": "markdown",
   "metadata": {
    "slideshow": {
     "slide_type": "subslide"
    }
   },
   "source": [
    "#### A few things before we start ...\n",
    "\n",
    "Big kudos to the amazing initiatives that work tirelessly to make science and academia better!\n",
    "\n",
    "<img align=\"center\" src=\"https://raw.githubusercontent.com/PeerHerholz/ML-DL_workshop_SynAGE/master/lecture/static/initiative_logos.png\" alt=\"logo\" title=\"Github\" width=\"2000\" height=\"280\" />\n",
    "* by no means an exhaustive list...\n"
   ]
  },
  {
   "cell_type": "markdown",
   "metadata": {
    "slideshow": {
     "slide_type": "slide"
    }
   },
   "source": [
    "### Let's do this!\n",
    "\n",
    "<img align=\"center\" src=\"https://c.tenor.com/cTNHiNckhfIAAAAC/minions-strong.gif\" alt=\"logo\" title=\"Github\" width=\"600\" height=\"280\" />"
   ]
  }
 ],
 "metadata": {
  "anaconda-cloud": {},
  "celltoolbar": "Slideshow",
  "kernelspec": {
   "display_name": "Python 3",
   "language": "python",
   "name": "python3"
  },
  "language_info": {
   "codemirror_mode": {
    "name": "ipython",
    "version": 3
   },
   "file_extension": ".py",
   "mimetype": "text/x-python",
   "name": "python",
   "nbconvert_exporter": "python",
   "pygments_lexer": "ipython3",
   "version": "3.6.4"
  }
 },
 "nbformat": 4,
 "nbformat_minor": 2
}
