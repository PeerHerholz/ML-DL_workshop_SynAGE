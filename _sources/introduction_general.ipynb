{
 "cells": [
  {
   "cell_type": "markdown",
   "metadata": {},
   "source": [
    "# General introduction & organization\n",
    "\n",
    "[Peer Herholz (he/him)](https://peerherholz.github.io/)  \n",
    "Postdoctoral researcher - [NeuroDataScience lab](https://neurodatascience.github.io/) at [MNI](https://www.mcgill.ca/neuro/)/[McGill](https://www.mcgill.ca/), [UNIQUE](https://sites.google.com/view/unique-neuro-ai)  \n",
    "Member - [BIDS](https://bids-specification.readthedocs.io/en/stable/), [ReproNim](https://www.repronim.org/), [Brainhack](https://brainhack.org/), [Neuromod](https://www.cneuromod.ca/), [OHBM SEA-SIG](https://ohbm-environment.org/) \n",
    "\n",
    "<img align=\"left\" src=\"https://raw.githubusercontent.com/G0RELLA/gorella_mwn/master/lecture/static/Twitter%20social%20icons%20-%20circle%20-%20blue.png\" alt=\"logo\" title=\"Twitter\" width=\"32\" height=\"20\" /> <img align=\"left\" src=\"https://raw.githubusercontent.com/G0RELLA/gorella_mwn/master/lecture/static/GitHub-Mark-120px-plus.png\" alt=\"logo\" title=\"Github\" width=\"30\" height=\"20\" />   &nbsp;&nbsp;@peerherholz \n",
    "\n",
    "\n",
    "<img align=\"right\" src=\"https://raw.githubusercontent.com/PeerHerholz/ML-DL_workshop_SynAGE/master/lecture/static/ml-dl_workshop.png\" alt=\"logo\" title=\"Github\" width=\"400\" height=\"280\" />\n"
   ]
  },
  {
   "cell_type": "markdown",
   "metadata": {
    "slideshow": {
     "slide_type": "slide"
    }
   },
   "source": [
    "### Outline for this section\n",
    "\n",
    "1. What is happening?\n",
    "2. Who are we?\n",
    "3. Who are you?\n",
    "4. The framework and setup\n",
    "5. General questions\n"
   ]
  },
  {
   "cell_type": "markdown",
   "metadata": {
    "slideshow": {
     "slide_type": "slide"
    }
   },
   "source": [
    "### What is happening?\n",
    "\n",
    "#### Objectives\n",
    "#### Your role\n",
    "#### Schedule\n"
   ]
  },
  {
   "cell_type": "markdown",
   "metadata": {
    "slideshow": {
     "slide_type": "subslide"
    }
   },
   "source": [
    "### What is happening?\n",
    "\n",
    "#### Objectives\n",
    "\n",
    "- Gain skills\n",
    "    - Learn about machine and deep learning methods and how to apply \n",
    "      them with a focus on neuroscientific data\n",
    "    - Familiarize yourself with different model types & analysis pipelines so that you can critically evaluate them\n",
    "    - Know important limitations & biases present in these methods\n"
   ]
  },
  {
   "cell_type": "markdown",
   "metadata": {
    "slideshow": {
     "slide_type": "subslide"
    }
   },
   "source": [
    "### What is happening?\n",
    "\n",
    "#### Objectives\n",
    "\n",
    "- Share\n",
    "    - Bring everything you’ve learning to your home institution and/or lab and beyond"
   ]
  },
  {
   "cell_type": "markdown",
   "metadata": {
    "slideshow": {
     "slide_type": "subslide"
    }
   },
   "source": [
    "### What is happening?\n",
    "\n",
    "#### Objectives\n",
    "\n",
    "- Get involved \n",
    "    - Get to know what's going on in the open science/source-python-machine/deep learning-neuroscience-world\n",
    "    - Become an active part of this cool community & support it going further \n",
    "     "
   ]
  },
  {
   "cell_type": "markdown",
   "metadata": {
    "slideshow": {
     "slide_type": "subslide"
    }
   },
   "source": [
    "### What is happening?\n",
    "\n",
    "#### Your role\n",
    "\n",
    "- **ask questions**\n",
    "\n",
    "- think quick and towards the \"bigger picture\" \n",
    "\n",
    "- further familiarize yourself with the machine/deep learning-python-world\n",
    "\n",
    "- start thinking about how you could apply/integrate the techniques introduced here into your own research workflow \n",
    "\n",
    "- have a great time (that's actually more on us than you)\n",
    "\n",
    "- give us feedback and help improve the materials\n",
    "\n",
    "     "
   ]
  },
  {
   "cell_type": "markdown",
   "metadata": {
    "slideshow": {
     "slide_type": "subslide"
    }
   },
   "source": [
    "### What is happening?\n",
    "\n",
    "#### Schedule\n",
    "\n",
    "**Welcome (9 AM - 9:30 AM)**\n",
    "\n",
    "| Time slot         | Topic | \n",
    "|--------------|:-----:|\n",
    "| 9 AM - 9:15 AM |  [General hello, introduction round and organization (9 AM - 9:15 AM)]() |\n",
    "| 9:15 AM - 9:30 AM |  [Models, AI and all other buzz words (9:15 AM - 9:30 AM)]() |\n",
    "\n",
    "     "
   ]
  },
  {
   "cell_type": "markdown",
   "metadata": {
    "slideshow": {
     "slide_type": "subslide"
    }
   },
   "source": [
    "### What is happening?\n",
    "\n",
    "#### Schedule\n",
    "\n",
    "**The content I - theoretical background (9:30 AM - 12 PM)**\n",
    "\n",
    "| Time slot         | Topic | \n",
    "|--------------|:-----:|\n",
    "| 9:30 AM - 10 AM |  [\"Classic\" machine learning - supervised or unsupervised, model types]() |\n",
    "| 10 AM - 10:15 AM |  [yoga/dance break]() |\n",
    "| 10:15 AM - 10:45 AM |  [\"Classic\" machine learning - model evaluation & cross-validation]() |\n",
    "| 10:45 AM - 11:15 AM |  [\"Classic\" machine learning - model tuning & biases]() |\n",
    "| 11:15 AM - 11:30 AM |  [yoga/dance break]() |\n",
    "| 11:30 AM - 12 PM |  [Deep learning - model types & architectures]() |\n",
    "     "
   ]
  },
  {
   "cell_type": "markdown",
   "metadata": {
    "slideshow": {
     "slide_type": "subslide"
    }
   },
   "source": [
    "### What is happening?\n",
    "\n",
    "#### Schedule\n",
    "\n",
    "**The content I - theoretical background (1 PM - 2:45 PM)**\n",
    "\n",
    "| Time slot         | Topic | \n",
    "|--------------|:-----:|\n",
    "| 1 PM - 1:30 PM |  [Deep learning - model evaluation & cross-validation]() |\n",
    "| 1:30 PM - 2 PM |  [Deep learning - model tuning & biases]() |\n",
    "| 2 PM - 2:15 PM |  [yoga/dance break]() |\n",
    "| 2:15 PM - 2:45 PM |  [Deep learning - transfer learning]() |"
   ]
  },
  {
   "cell_type": "markdown",
   "metadata": {
    "slideshow": {
     "slide_type": "subslide"
    }
   },
   "source": [
    "### What is happening?\n",
    "\n",
    "#### Schedule\n",
    "\n",
    "**The content II - hands-on (2:45 PM - 5 PM)**\n",
    "\n",
    "| Time slot         | Topic | \n",
    "|--------------|:-----:|\n",
    "| 2:45 PM - 3 PM |  [Dataset blitz]() |\n",
    "| 3 PM - 4:30 PM |  [Free hacking]() |\n",
    "| 4:30 PM - 5 PM |  [Lessons learned, Q&A]() |"
   ]
  },
  {
   "cell_type": "markdown",
   "metadata": {
    "slideshow": {
     "slide_type": "slide"
    }
   },
   "source": [
    "### Who are you?"
   ]
  },
  {
   "cell_type": "markdown",
   "metadata": {
    "slideshow": {
     "slide_type": "fragment"
    }
   },
   "source": [
    "- your name\n",
    "- your background\n",
    "- your programming/ML/DL experience\n",
    "- your favorite band/artist\n",
    "- if you could be any type of vacation: which one?\n",
    "\n",
    "(point 2-4 are not intended to \"put you on the spot\", but to get a better idea of your previous training/experience so that we have the chance to tailor the workshop contents better to your needs)"
   ]
  },
  {
   "cell_type": "markdown",
   "metadata": {
    "slideshow": {
     "slide_type": "slide"
    }
   },
   "source": [
    "### Who are we?\n",
    "\n",
    "- a little something about us..."
   ]
  },
  {
   "cell_type": "markdown",
   "metadata": {
    "slideshow": {
     "slide_type": "subslide"
    }
   },
   "source": [
    "### Who are we?\n",
    "\n",
    "|  Characteristic/Person |  José C. García Alanis  | Peer Herholz | \n",
    "|--------------|--------------|:-----:|\n",
    "|Picture|<img align=\"right\" src=\"https://scholar.googleusercontent.com/citations?view_op=medium_photo&user=JwA7oqgAAAAJ&citpid=3\" alt=\"logo\" title=\"Jose\" width=\"200\" height=\"140\" />  | <img align=\"left\" src=\"https://avatars.githubusercontent.com/u/20129524?v=4\" alt=\"logo\" title=\"Peer\" width=\"200\" height=\"140\" /> |\n",
    "|Affiliation|  | Research affiliate MNI/McGill & McGovern Institute/MIT, </br>  cand. habilitation Goethe-University Frankfurt  |\n",
    "|Background| Psychology | Neuropsychology/Neuroscience |\n",
    "|Research| decision making | Cognitive & computational auditory neuroscience |\n",
    "|Likes| Peer | José |\n",
    "|Dislikes| Peer  | José |\n",
    "|Contact|<img align=\"left\" src=\"https://raw.githubusercontent.com/G0RELLA/gorella_mwn/master/lecture/static/Twitter%20social%20icons%20-%20circle%20-%20blue.png\" alt=\"logo\" title=\"Twitter\" width=\"32\" height=\"20\" /> <img align=\"left\" src=\"https://raw.githubusercontent.com/G0RELLA/gorella_mwn/master/lecture/static/GitHub-Mark-120px-plus.png\" alt=\"logo\" title=\"Github\" width=\"30\" height=\"20\" />   &nbsp;&nbsp;&nbsp;&nbsp;@JoseAlanis | <img align=\"left\" src=\"https://raw.githubusercontent.com/G0RELLA/gorella_mwn/master/lecture/static/Twitter%20social%20icons%20-%20circle%20-%20blue.png\" alt=\"logo\" title=\"Twitter\" width=\"32\" height=\"20\" /> <img align=\"left\" src=\"https://raw.githubusercontent.com/G0RELLA/gorella_mwn/master/lecture/static/GitHub-Mark-120px-plus.png\" alt=\"logo\" title=\"Github\" width=\"30\" height=\"20\" />   &nbsp;&nbsp;@peerherholz |"
   ]
  },
  {
   "cell_type": "markdown",
   "metadata": {
    "slideshow": {
     "slide_type": "slide"
    }
   },
   "source": [
    "### The framework and setup\n",
    "\n",
    "- all materials are provided through a(n interactive) [Jupyter Book](https://jupyterbook.org/intro.html)\n",
    "\n",
    "<img align=\"center\" src=\"https://raw.githubusercontent.com/PeerHerholz/ML-DL_workshop_SynAGE/master/lecture/static/workshop_framework.png\" alt=\"logo\" title=\"Github\" width=\"1000\" height=\"280\" />\n",
    "  \n",
    "[https://peerherholz.github.io/ML-DL_workshop_SynAGE/](https://peerherholz.github.io/ML-DL_workshop_SynAGE/)"
   ]
  },
  {
   "cell_type": "markdown",
   "metadata": {
    "slideshow": {
     "slide_type": "subslide"
    }
   },
   "source": [
    "### The framework and setup\n",
    "\n",
    "- there are 4 different ways to participate in this workshop and utilize the materials \n",
    "\n",
    "<img align=\"center\" src=\"https://raw.githubusercontent.com/PeerHerholz/ML-DL_workshop_SynAGE/master/lecture/static/workshop_setup.png\" alt=\"logo\" title=\"Github\" width=\"1000\" height=\"280\" />\n",
    "  \n",
    "[https://peerherholz.github.io/ML-DL_workshop_SynAGE/setup.html](https://peerherholz.github.io/ML-DL_workshop_SynAGE/setup.html)"
   ]
  },
  {
   "cell_type": "markdown",
   "metadata": {
    "slideshow": {
     "slide_type": "slide"
    }
   },
   "source": [
    "### General Questions\n",
    "\n",
    "\n",
    "<img align=\"center\" src=\"https://media3.giphy.com/media/xT5LMB2WiOdjpB7K4o/giphy.gif?cid=ecf05e47q3v9fd9aorxcgpwj289r4sxlrc9mhabqc6uhhqrc&rid=giphy.gif&ct=g\" alt=\"logo\" title=\"Github\" width=\"600\" height=\"280\" />\n"
   ]
  }
 ],
 "metadata": {
  "anaconda-cloud": {},
  "celltoolbar": "Slideshow",
  "kernelspec": {
   "display_name": "Python 3",
   "language": "python",
   "name": "python3"
  },
  "language_info": {
   "codemirror_mode": {
    "name": "ipython",
    "version": 3
   },
   "file_extension": ".py",
   "mimetype": "text/x-python",
   "name": "python",
   "nbconvert_exporter": "python",
   "pygments_lexer": "ipython3",
   "version": "3.6.4"
  }
 },
 "nbformat": 4,
 "nbformat_minor": 2
}
