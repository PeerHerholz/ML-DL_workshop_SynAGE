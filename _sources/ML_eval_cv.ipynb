{
 "cells": [
  {
   "cell_type": "markdown",
   "metadata": {
    "slideshow": {
     "slide_type": "slide"
    }
   },
   "source": [
    "# Model evaluation & cross-validation\n",
    "\n",
    "[José C. García Alanis (he/him)](https://github.com/JoseAlanis)  \n",
    "Research Fellow - Child and Adolescent Psychology at [Uni Marburg](https://www.uni-marburg.de/de)  \n",
    "Member - [RTG 2271 | Breaking Expectations](https://www.uni-marburg.de/en/fb04/rtg-2271), [Brainhack](https://brainhack.org/)\n",
    "\n",
    "<img align=\"left\" src=\"https://raw.githubusercontent.com/G0RELLA/gorella_mwn/master/lecture/static/Twitter%20social%20icons%20-%20circle%20-%20blue.png\" alt=\"logo\" title=\"Twitter\" width=\"30\" height=\"30\" /> <img align=\"left\" src=\"https://raw.githubusercontent.com/G0RELLA/gorella_mwn/master/lecture/static/GitHub-Mark-120px-plus.png\" alt=\"logo\" title=\"Github\" width=\"30\" height=\"30\" />   &nbsp;&nbsp;@JoiAlhaniz \n",
    "\n",
    "\n",
    "<img align=\"right\" src=\"https://raw.githubusercontent.com/PeerHerholz/ML-DL_workshop_SynAGE/master/lecture/static/ml-dl_workshop.png\" alt=\"logo\" title=\"Github\" width=\"400\" height=\"280\" />\n"
   ]
  },
  {
   "cell_type": "markdown",
   "metadata": {
    "slideshow": {
     "slide_type": "slide"
    }
   },
   "source": [
    "### Aim(s) of this section\n",
    "\n",
    "As mention in the previous section, it is not sufficient to apply these methods to learn somthing about the nature of our data. It is always necessary to assess the quality of the implemented model. The goal of these section is to look at ways to estimate the generalization accuracy of a model on future (e.g.,unseen, out-of-sample) data.\n",
    "\n",
    "In other words, at the end of these sections you should know:\n",
    "- 1) different techniques to evaluate a given model\n",
    "- 2) understand the basic idea of cross-validation and different kinds of the same\n",
    "- 3) get an idea how to assess the significance (e.g., via permutation tests)"
   ]
  },
  {
   "cell_type": "markdown",
   "metadata": {
    "slideshow": {
     "slide_type": "slide"
    }
   },
   "source": [
    "### Prepare data for model\n",
    "\n",
    "Lets bring back our example data set (you know the song ...)"
   ]
  },
  {
   "cell_type": "code",
   "execution_count": 4,
   "metadata": {
    "slideshow": {
     "slide_type": "fragment"
    }
   },
   "outputs": [
    {
     "name": "stdout",
     "output_type": "stream",
     "text": [
      "There are 155 samples and 2016 features\n"
     ]
    }
   ],
   "source": [
    "import numpy as np\n",
    "import pandas as pd\n",
    "\n",
    "# get the data set\n",
    "data = np.load('MAIN2019_BASC064_subsamp_features.npz')['a']\n",
    "\n",
    "# get the labels\n",
    "info = pd.read_csv('participants.csv')\n",
    "\n",
    "\n",
    "print('There are %s samples and %s features' % (data.shape[0], data.shape[1]))"
   ]
  },
  {
   "cell_type": "markdown",
   "metadata": {
    "slideshow": {
     "slide_type": "subslide"
    }
   },
   "source": [
    "Now let's look at the labels"
   ]
  },
  {
   "cell_type": "code",
   "execution_count": 5,
   "metadata": {
    "scrolled": false,
    "slideshow": {
     "slide_type": "fragment"
    }
   },
   "outputs": [
    {
     "data": {
      "text/html": [
       "<div>\n",
       "<style scoped>\n",
       "    .dataframe tbody tr th:only-of-type {\n",
       "        vertical-align: middle;\n",
       "    }\n",
       "\n",
       "    .dataframe tbody tr th {\n",
       "        vertical-align: top;\n",
       "    }\n",
       "\n",
       "    .dataframe thead th {\n",
       "        text-align: right;\n",
       "    }\n",
       "</style>\n",
       "<table border=\"1\" class=\"dataframe\">\n",
       "  <thead>\n",
       "    <tr style=\"text-align: right;\">\n",
       "      <th></th>\n",
       "      <th>participant_id</th>\n",
       "      <th>Age</th>\n",
       "      <th>AgeGroup</th>\n",
       "      <th>Child_Adult</th>\n",
       "      <th>Gender</th>\n",
       "      <th>Handedness</th>\n",
       "    </tr>\n",
       "  </thead>\n",
       "  <tbody>\n",
       "    <tr>\n",
       "      <th>0</th>\n",
       "      <td>sub-pixar123</td>\n",
       "      <td>27.06</td>\n",
       "      <td>Adult</td>\n",
       "      <td>adult</td>\n",
       "      <td>F</td>\n",
       "      <td>R</td>\n",
       "    </tr>\n",
       "    <tr>\n",
       "      <th>1</th>\n",
       "      <td>sub-pixar124</td>\n",
       "      <td>33.44</td>\n",
       "      <td>Adult</td>\n",
       "      <td>adult</td>\n",
       "      <td>M</td>\n",
       "      <td>R</td>\n",
       "    </tr>\n",
       "    <tr>\n",
       "      <th>2</th>\n",
       "      <td>sub-pixar125</td>\n",
       "      <td>31.00</td>\n",
       "      <td>Adult</td>\n",
       "      <td>adult</td>\n",
       "      <td>M</td>\n",
       "      <td>R</td>\n",
       "    </tr>\n",
       "    <tr>\n",
       "      <th>3</th>\n",
       "      <td>sub-pixar126</td>\n",
       "      <td>19.00</td>\n",
       "      <td>Adult</td>\n",
       "      <td>adult</td>\n",
       "      <td>F</td>\n",
       "      <td>R</td>\n",
       "    </tr>\n",
       "    <tr>\n",
       "      <th>4</th>\n",
       "      <td>sub-pixar127</td>\n",
       "      <td>23.00</td>\n",
       "      <td>Adult</td>\n",
       "      <td>adult</td>\n",
       "      <td>F</td>\n",
       "      <td>R</td>\n",
       "    </tr>\n",
       "  </tbody>\n",
       "</table>\n",
       "</div>"
      ],
      "text/plain": [
       "  participant_id    Age AgeGroup Child_Adult Gender Handedness\n",
       "0   sub-pixar123  27.06    Adult       adult      F          R\n",
       "1   sub-pixar124  33.44    Adult       adult      M          R\n",
       "2   sub-pixar125  31.00    Adult       adult      M          R\n",
       "3   sub-pixar126  19.00    Adult       adult      F          R\n",
       "4   sub-pixar127  23.00    Adult       adult      F          R"
      ]
     },
     "execution_count": 5,
     "metadata": {},
     "output_type": "execute_result"
    }
   ],
   "source": [
    "info.head(n=5)"
   ]
  },
  {
   "cell_type": "markdown",
   "metadata": {
    "slideshow": {
     "slide_type": "subslide"
    }
   },
   "source": [
    "We'll set `Age` as target\n",
    "- i.e., well look at these from the `regression` perspective"
   ]
  },
  {
   "cell_type": "code",
   "execution_count": 6,
   "metadata": {
    "scrolled": true,
    "slideshow": {
     "slide_type": "fragment"
    }
   },
   "outputs": [
    {
     "data": {
      "text/plain": [
       "count    155.000000\n",
       "mean      10.555189\n",
       "std        8.071957\n",
       "min        3.518138\n",
       "25%        5.300000\n",
       "50%        7.680000\n",
       "75%       10.975000\n",
       "max       39.000000\n",
       "Name: Age, dtype: float64"
      ]
     },
     "execution_count": 6,
     "metadata": {},
     "output_type": "execute_result"
    }
   ],
   "source": [
    "# set age as target\n",
    "Y_con = info['Age']\n",
    "Y_con.describe()"
   ]
  },
  {
   "cell_type": "markdown",
   "metadata": {
    "slideshow": {
     "slide_type": "subslide"
    }
   },
   "source": [
    "Next:\n",
    "- we need to divide our input data `X` into `training` and `test` sets"
   ]
  },
  {
   "cell_type": "code",
   "execution_count": 7,
   "metadata": {
    "slideshow": {
     "slide_type": "fragment"
    }
   },
   "outputs": [],
   "source": [
    "# import necessary python modules\n",
    "from sklearn.preprocessing import StandardScaler\n",
    "from sklearn.svm import SVC\n",
    "from sklearn.pipeline import make_pipeline\n",
    "from sklearn.model_selection import train_test_split\n",
    "from sklearn.metrics import accuracy_score\n",
    "\n",
    "# split the data\n",
    "X_train, X_test, y_train, y_test = train_test_split(data, Y_con, random_state=0)"
   ]
  },
  {
   "cell_type": "markdown",
   "metadata": {
    "slideshow": {
     "slide_type": "subslide"
    }
   },
   "source": [
    "Now lets look at the size of the data sets"
   ]
  },
  {
   "cell_type": "code",
   "execution_count": 8,
   "metadata": {
    "slideshow": {
     "slide_type": "fragment"
    }
   },
   "outputs": [
    {
     "name": "stdout",
     "output_type": "stream",
     "text": [
      "N used for training: 116  |  N used for testing: 39\n"
     ]
    }
   ],
   "source": [
    "# print the size of our training and test groups\n",
    "print('N used for training:', len(X_train),\n",
    "      ' |  N used for testing:', len(X_test))"
   ]
  },
  {
   "cell_type": "markdown",
   "metadata": {
    "slideshow": {
     "slide_type": "subslide"
    }
   },
   "source": [
    "**Question:** Is that a good distribution? Does it look ok?\n",
    "\n",
    "- Why might this be problematic (hint: what do you know about groups (e.g., `Child_Adult`) in the data."
   ]
  },
  {
   "cell_type": "code",
   "execution_count": 9,
   "metadata": {
    "scrolled": true,
    "slideshow": {
     "slide_type": "fragment"
    }
   },
   "outputs": [
    {
     "data": {
      "text/plain": [
       "<matplotlib.legend.Legend at 0x7fb456615e20>"
      ]
     },
     "execution_count": 9,
     "metadata": {},
     "output_type": "execute_result"
    },
    {
     "data": {
      "image/png": "[encoded data removed]",
      "text/plain": [
       "<Figure size 360x360 with 1 Axes>"
      ]
     },
     "metadata": {
      "needs_background": "light"
     },
     "output_type": "display_data"
    },
    {
     "data": {
      "image/png": "[encoded data removed]",
      "text/plain": [
       "<Figure size 360x360 with 1 Axes>"
      ]
     },
     "metadata": {
      "needs_background": "light"
     },
     "output_type": "display_data"
    }
   ],
   "source": [
    "import matplotlib.pyplot as plt\n",
    "import seaborn as sns\n",
    "\n",
    "sns.displot(y_train,label='train')\n",
    "plt.legend()\n",
    "sns.displot(y_test,label='test')\n",
    "plt.legend()"
   ]
  },
  {
   "cell_type": "markdown",
   "metadata": {
    "slideshow": {
     "slide_type": "slide"
    }
   },
   "source": [
    "### Model fit\n",
    "\n",
    "Now lets go ahead and fit the model\n",
    "- we will use a fairly standard regression model called a Support Vector Regressor (SVR)\n",
    "  - similar to the one we used in the previous section"
   ]
  },
  {
   "cell_type": "code",
   "execution_count": 10,
   "metadata": {
    "slideshow": {
     "slide_type": "fragment"
    }
   },
   "outputs": [
    {
     "data": {
      "text/plain": [
       "SVR(kernel='linear')"
      ]
     },
     "execution_count": 10,
     "metadata": {},
     "output_type": "execute_result"
    }
   ],
   "source": [
    "from sklearn.svm import SVR\n",
    "\n",
    "# define the model\n",
    "lin_svr = SVR(kernel='linear')\n",
    "\n",
    "# fit the model\n",
    "lin_svr.fit(X_train, y_train)"
   ]
  },
  {
   "cell_type": "markdown",
   "metadata": {
    "slideshow": {
     "slide_type": "slide"
    }
   },
   "source": [
    "### Model diagnostics"
   ]
  },
  {
   "cell_type": "markdown",
   "metadata": {
    "slideshow": {
     "slide_type": "slide"
    }
   },
   "source": [
    "Now let's look at how the model performs in predicting the data\n",
    "- we can use the `score` method to calculate the coefficient of determination (or [R-squared](https://en.wikipedia.org/wiki/Coefficient_of_determination)) of the prediction.\n",
    "  - for this we compare the observed data to the predicted data"
   ]
  },
  {
   "cell_type": "code",
   "execution_count": 11,
   "metadata": {
    "slideshow": {
     "slide_type": "subslide"
    }
   },
   "outputs": [],
   "source": [
    "# predict the training data based on the model\n",
    "y_pred = lin_svr.predict(X_train) \n",
    "\n",
    "# caluclate the model accuracy\n",
    "acc = lin_svr.score(X_train, y_train)"
   ]
  },
  {
   "cell_type": "code",
   "execution_count": 12,
   "metadata": {
    "slideshow": {
     "slide_type": "fragment"
    }
   },
   "outputs": [
    {
     "name": "stdout",
     "output_type": "stream",
     "text": [
      "accuracy (R2) 0.9998468951478122\n"
     ]
    }
   ],
   "source": [
    "# print results\n",
    "print('accuracy (R2)', acc)"
   ]
  },
  {
   "cell_type": "markdown",
   "metadata": {
    "slideshow": {
     "slide_type": "subslide"
    }
   },
   "source": [
    "Now lets plot the predicted values"
   ]
  },
  {
   "cell_type": "code",
   "execution_count": 13,
   "metadata": {
    "slideshow": {
     "slide_type": "fragment"
    }
   },
   "outputs": [
    {
     "data": {
      "text/plain": [
       "Text(0.5, 0, 'Predicted Age')"
      ]
     },
     "execution_count": 13,
     "metadata": {},
     "output_type": "execute_result"
    },
    {
     "data": {
      "image/png": "[encoded data removed]",
      "text/plain": [
       "<Figure size 432x288 with 1 Axes>"
      ]
     },
     "metadata": {
      "needs_background": "light"
     },
     "output_type": "display_data"
    }
   ],
   "source": [
    "sns.regplot(y=y_pred, x=y_train, scatter_kws=dict(color='k'))\n",
    "plt.xlabel('Predicted Age')"
   ]
  },
  {
   "cell_type": "markdown",
   "metadata": {
    "slideshow": {
     "slide_type": "subslide"
    }
   },
   "source": [
    "Now thats really cool, eh? **Almost a perfect fit**"
   ]
  },
  {
   "cell_type": "markdown",
   "metadata": {
    "slideshow": {
     "slide_type": "subslide"
    }
   },
   "source": [
    "... which means something is wrong\n",
    "- what are we missing here?"
   ]
  },
  {
   "cell_type": "markdown",
   "metadata": {
    "slideshow": {
     "slide_type": "subslide"
    }
   },
   "source": [
    "- **recall**: We are still using the test data sets."
   ]
  },
  {
   "cell_type": "markdown",
   "metadata": {
    "slideshow": {
     "slide_type": "subslide"
    }
   },
   "source": [
    "<center><img src=\"https://raw.githubusercontent.com/neurodatascience/course-materials-2020/master/lectures/14-may/03-intro-to-machine-learning/Imgs/regr.jpg\" alt=\"logo\" title=\"Github\" width=\"800\" height=\"500\" /><center>\n",
    "\n",
    "<br>"
   ]
  },
  {
   "cell_type": "markdown",
   "metadata": {
    "slideshow": {
     "slide_type": "subslide"
    }
   },
   "source": [
    "### Train/test stratification\n",
    "\n",
    "Now lets do this again but we'll add some constraints to the predriction\n",
    "- Well keey the 75/25 ratio between test and train data sets\n",
    "- But now we will try to keep the characteristics of the data set consistent accross training and test datasets\n",
    "- For this we will use something called [stratification](https://en.wikipedia.org/wiki/Stratified_sampling)"
   ]
  },
  {
   "cell_type": "code",
   "execution_count": 14,
   "metadata": {
    "slideshow": {
     "slide_type": "subslide"
    }
   },
   "outputs": [],
   "source": [
    "# use `AgeGroup` for stratification\n",
    "age_class2 = info.loc[y_train.index,'AgeGroup']\n",
    "\n",
    "# split the data\n",
    "X_train2, X_test, y_train2, y_test = train_test_split(\n",
    "    X_train, # x\n",
    "    y_train, # y\n",
    "    test_size = 0.25, # 75%/25% split  \n",
    "    shuffle = True, # shuffle dataset before splitting\n",
    "    stratify = age_class2,  # keep distribution of age class consistent\n",
    "                            # betw. train & test sets.\n",
    "    random_state = 0 # same shuffle each time\n",
    ")"
   ]
  },
  {
   "cell_type": "markdown",
   "metadata": {
    "slideshow": {
     "slide_type": "subslide"
    }
   },
   "source": [
    "Let's re-fit the model on the newly computed (and stratified) train data and evaluate it' performace on an (also stratified) test data\n",
    "- We'll compute again the model accuracy (R-squared) to evalueate the models performance,\n",
    "- but we'll also have a look at the [mean-absolute-error](https://en.wikipedia.org/wiki/Mean_absolute_error) (MAE), it is measured as the average sum of the absolute diffrences between predictions and actual observations. Unlike other measures, MAE is more robust to outliers, since it doesn't square the deviations (cf. [mean-squared-error](https://en.wikipedia.org/wiki/Mean_squared_error))\n",
    "  - it provides a way to asses \"how far off\" are our predictions from our actual data, while staying on it's referential space"
   ]
  },
  {
   "cell_type": "code",
   "execution_count": 15,
   "metadata": {
    "slideshow": {
     "slide_type": "fragment"
    }
   },
   "outputs": [],
   "source": [
    "from sklearn.metrics import mean_absolute_error\n",
    "\n",
    "# fit model just to training data\n",
    "lin_svr.fit(X_train2, y_train2)\n",
    "\n",
    "# predict the *test* data based on the model trained on X_train2\n",
    "y_pred = lin_svr.predict(X_test) \n",
    "\n",
    "# calculate the model accuracy\n",
    "acc = lin_svr.score(X_test, y_test) \n",
    "mae = mean_absolute_error(y_true=y_test,y_pred=y_pred)"
   ]
  },
  {
   "cell_type": "markdown",
   "metadata": {
    "slideshow": {
     "slide_type": "subslide"
    }
   },
   "source": [
    "Lets check the results"
   ]
  },
  {
   "cell_type": "code",
   "execution_count": 16,
   "metadata": {
    "slideshow": {
     "slide_type": "fragment"
    }
   },
   "outputs": [
    {
     "name": "stdout",
     "output_type": "stream",
     "text": [
      "accuracy (R2) =  0.6593855081680796\n",
      "MAE =  3.2059201603105882\n"
     ]
    }
   ],
   "source": [
    "# print results\n",
    "print('accuracy (R2) = ', acc)\n",
    "print('MAE = ', mae)"
   ]
  },
  {
   "cell_type": "code",
   "execution_count": 19,
   "metadata": {
    "scrolled": true,
    "slideshow": {
     "slide_type": "subslide"
    }
   },
   "outputs": [
    {
     "data": {
      "text/plain": [
       "Text(0.5, 0, 'Predicted Age')"
      ]
     },
     "execution_count": 19,
     "metadata": {},
     "output_type": "execute_result"
    },
    {
     "data": {
      "image/png": "[encoded data removed]",
      "text/plain": [
       "<Figure size 432x288 with 1 Axes>"
      ]
     },
     "metadata": {
      "needs_background": "light"
     },
     "output_type": "display_data"
    }
   ],
   "source": [
    "# plot results\n",
    "sns.regplot(x=y_pred,y=y_test, scatter_kws=dict(color='k'))\n",
    "plt.xlabel('Predicted Age')"
   ]
  },
  {
   "cell_type": "markdown",
   "metadata": {
    "slideshow": {
     "slide_type": "slide"
    }
   },
   "source": [
    "### [Cross-validation](https://en.wikipedia.org/wiki/Cross-validation_(statistics))\n",
    "\n",
    "Not perfect, but its not bad, as far as predicting with unseen data goes. Especially with a training sample of \"only\" 69 subjects.\n",
    "\n",
    "- But, can we do better?\n",
    "- On thing we could do is increase the size our training set while simultaneously reducing bias by instead using 10-fold **cross-validation**"
   ]
  },
  {
   "cell_type": "markdown",
   "metadata": {
    "slideshow": {
     "slide_type": "subslide"
    }
   },
   "source": [
    "<center><img src=\"https://raw.githubusercontent.com/neurodatascience/course-materials-2020/master/lectures/14-may/03-intro-to-machine-learning/Imgs/KCV2.png\" alt=\"logo\" title=\"Github\" width=\"600\" height=\"500\" /></center>\n",
    "    \n",
    "<br>"
   ]
  },
  {
   "cell_type": "markdown",
   "metadata": {
    "slideshow": {
     "slide_type": "subslide"
    }
   },
   "source": [
    "Cross-validation is a technique used to protect against biases in a predictive model\n",
    "- particularly useful in cases where the amount of data may be limited. \n",
    "- basic idea: you partition the data in a fixed number of folds, run the analysis on each fold, and then average out the overall error estimate"
   ]
  },
  {
   "cell_type": "markdown",
   "metadata": {
    "slideshow": {
     "slide_type": "subslide"
    }
   },
   "source": [
    "Let's look at the models performance across 10 folds"
   ]
  },
  {
   "cell_type": "code",
   "execution_count": 20,
   "metadata": {
    "slideshow": {
     "slide_type": "subslide"
    }
   },
   "outputs": [],
   "source": [
    "# import modules needed for cross-validation\n",
    "from sklearn.model_selection import cross_val_predict, cross_val_score\n",
    "\n",
    "# predict\n",
    "y_pred = cross_val_predict(lin_svr, X_train, y_train, cv=10)\n",
    "# scores\n",
    "acc = cross_val_score(lin_svr, X_train, y_train, cv=10)\n",
    "mae = cross_val_score(lin_svr, X_train, y_train, cv=10, \n",
    "                      scoring='neg_mean_absolute_error')\n",
    "# negative MAE is simply the negative of the \n",
    "# MAE (by definition a positive quantity),  \n",
    "# since MAE is an error metric, i.e. the lower the better, \n",
    "# negative MAE is the opposite"
   ]
  },
  {
   "cell_type": "code",
   "execution_count": 39,
   "metadata": {
    "scrolled": true,
    "slideshow": {
     "slide_type": "subslide"
    }
   },
   "outputs": [
    {
     "name": "stdout",
     "output_type": "stream",
     "text": [
      "Fold 0 -- Acc = 0.419, MAE = 5.271\n",
      "Fold 1 -- Acc = 0.11, MAE = 3.069\n",
      "Fold 2 -- Acc = 0.79, MAE = 2.275\n",
      "Fold 3 -- Acc = 0.809, MAE = 3.061\n",
      "Fold 4 -- Acc = 0.641, MAE = 3.906\n",
      "Fold 5 -- Acc = 0.195, MAE = 4.732\n",
      "Fold 6 -- Acc = 0.684, MAE = 3.974\n",
      "Fold 7 -- Acc = 0.815, MAE = 2.693\n",
      "Fold 8 -- Acc = 0.058, MAE = 5.525\n",
      "Fold 9 -- Acc = 0.698, MAE = 2.571\n"
     ]
    }
   ],
   "source": [
    "# print the results for each fold\n",
    "for i in range(10):\n",
    "    print(\n",
    "        'Fold {} -- Acc = {}, MAE = {}'.format(i, np.round(acc[i], 3), np.round(-mae[i], 3))\n",
    "    )"
   ]
  },
  {
   "cell_type": "markdown",
   "metadata": {
    "slideshow": {
     "slide_type": "subslide"
    }
   },
   "source": [
    "For the visually oriented among us"
   ]
  },
  {
   "cell_type": "code",
   "execution_count": 84,
   "metadata": {
    "slideshow": {
     "slide_type": "subslide"
    }
   },
   "outputs": [
    {
     "data": {
      "text/plain": [
       "Text(0, 0.5, 'Metric score [i.e., R-squared 0 to 1]')"
      ]
     },
     "execution_count": 84,
     "metadata": {},
     "output_type": "execute_result"
    },
    {
     "data": {
      "image/png": "[encoded data removed]",
      "text/plain": [
       "<Figure size 576x432 with 1 Axes>"
      ]
     },
     "metadata": {
      "needs_background": "light"
     },
     "output_type": "display_data"
    }
   ],
   "source": [
    "fig = plt.figure(figsize=(8, 6))\n",
    "plt.plot(acc, label = 'R-squared')\n",
    "plt.legend()\n",
    "plt.plot(-mae, label = 'MAE')\n",
    "plt.legend(prop={'size': 12}, loc=9)\n",
    "plt.xlabel('Folds [1 to 10]')\n",
    "plt.ylabel('Metric score [i.e., R-squared 0 to 1]')"
   ]
  },
  {
   "cell_type": "markdown",
   "metadata": {
    "slideshow": {
     "slide_type": "subslide"
    }
   },
   "source": [
    "We can also look at the **overall accuracy** of the model"
   ]
  },
  {
   "cell_type": "code",
   "execution_count": 85,
   "metadata": {
    "slideshow": {
     "slide_type": "subslide"
    }
   },
   "outputs": [
    {
     "name": "stdout",
     "output_type": "stream",
     "text": [
      "R2: 0.5544107024745264\n",
      "MAE: 3.7082530497804926\n"
     ]
    }
   ],
   "source": [
    "from sklearn.metrics import r2_score\n",
    "\n",
    "overall_acc = r2_score(y_train, y_pred)\n",
    "overall_mae = mean_absolute_error(y_train,y_pred)\n",
    "\n",
    "print('R2:', overall_acc)\n",
    "print('MAE:', overall_mae)"
   ]
  },
  {
   "cell_type": "markdown",
   "metadata": {
    "slideshow": {
     "slide_type": "subslide"
    }
   },
   "source": [
    "Now, let's look at the final overall model prediction"
   ]
  },
  {
   "cell_type": "code",
   "execution_count": 86,
   "metadata": {
    "slideshow": {
     "slide_type": "fragment"
    }
   },
   "outputs": [
    {
     "data": {
      "text/plain": [
       "Text(0, 0.5, 'Predicted Age')"
      ]
     },
     "execution_count": 86,
     "metadata": {},
     "output_type": "execute_result"
    },
    {
     "data": {
      "image/png": "[encoded data removed]",
      "text/plain": [
       "<Figure size 432x288 with 1 Axes>"
      ]
     },
     "metadata": {
      "needs_background": "light"
     },
     "output_type": "display_data"
    }
   ],
   "source": [
    "sns.regplot(x=y_train, y=y_pred, scatter_kws=dict(color='k'))\n",
    "plt.ylabel('Predicted Age')"
   ]
  },
  {
   "cell_type": "markdown",
   "metadata": {
    "slideshow": {
     "slide_type": "slide"
    }
   },
   "source": [
    "### Summary\n",
    "\n",
    "Not bad, not bad at all.\n",
    "\n",
    "But **most importantly**\n",
    "- this is a more **accurate estimation** of our model's predictive efficacy."
   ]
  }
 ],
 "metadata": {
  "anaconda-cloud": {},
  "celltoolbar": "Slideshow",
  "kernelspec": {
   "display_name": "Python 3 (ipykernel)",
   "language": "python",
   "name": "python3"
  },
  "language_info": {
   "codemirror_mode": {
    "name": "ipython",
    "version": 3
   },
   "file_extension": ".py",
   "mimetype": "text/x-python",
   "name": "python",
   "nbconvert_exporter": "python",
   "pygments_lexer": "ipython3",
   "version": "3.8.5"
  }
 },
 "nbformat": 4,
 "nbformat_minor": 2
}
